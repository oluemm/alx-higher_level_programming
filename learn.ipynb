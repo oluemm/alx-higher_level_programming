{
 "cells": [
  {
   "cell_type": "code",
   "execution_count": null,
   "metadata": {},
   "outputs": [],
   "source": [
    "if True:\n",
    "    print(\"Holberton\")\n",
    "else:\n",
    "    print(\"School\")"
   ]
  },
  {
   "cell_type": "code",
   "execution_count": null,
   "metadata": {},
   "outputs": [],
   "source": [
    "if 12 == 48/4:\n",
    "    print(\"Holberton\")\n",
    "else:\n",
    "    print(\"School\")"
   ]
  },
  {
   "cell_type": "code",
   "execution_count": null,
   "metadata": {},
   "outputs": [],
   "source": [
    "if 12 == 48/4 and False:\n",
    "    print(\"Holberton\")\n",
    "else:\n",
    "    print(\"School\")"
   ]
  },
  {
   "cell_type": "markdown",
   "metadata": {},
   "source": []
  },
  {
   "cell_type": "code",
   "execution_count": null,
   "metadata": {},
   "outputs": [],
   "source": [
    "if 12 == 48/3 or 12 is 12:\n",
    "    print(\"Holberton\")\n",
    "else:\n",
    "    print(\"School\")"
   ]
  },
  {
   "cell_type": "code",
   "execution_count": null,
   "metadata": {},
   "outputs": [],
   "source": [
    "for i in range(4):\n",
    "    print(i, end=\" \")"
   ]
  },
  {
   "cell_type": "code",
   "execution_count": null,
   "metadata": {},
   "outputs": [],
   "source": [
    "for i in range(2, 4):\n",
    "    print(i, end=\" \")"
   ]
  },
  {
   "cell_type": "code",
   "execution_count": null,
   "metadata": {},
   "outputs": [],
   "source": [
    "for i in range(2, 10, 2):\n",
    "    print(i, end=\" \")"
   ]
  },
  {
   "cell_type": "code",
   "execution_count": null,
   "metadata": {},
   "outputs": [],
   "source": [
    "import random\n",
    "number = random.randint(-10000, 10000)\n",
    "if number < 0:\n",
    "    numberz = number * (-1)\n",
    "    print(number,numberz%10)\n",
    "else:\n",
    "    print(number,number%10)\n"
   ]
  },
  {
   "cell_type": "code",
   "execution_count": null,
   "metadata": {},
   "outputs": [],
   "source": [
    "import dis,fibo\n",
    "fibo.fib\n"
   ]
  },
  {
   "cell_type": "code",
   "execution_count": null,
   "metadata": {},
   "outputs": [],
   "source": [
    "def my_func():\n",
    "    print(\"Hello\")"
   ]
  },
  {
   "cell_type": "code",
   "execution_count": null,
   "metadata": {},
   "outputs": [],
   "source": [
    "my_func"
   ]
  },
  {
   "cell_type": "markdown",
   "metadata": {},
   "source": [
    "```\n",
    "def fib(n):    # write Fibonacci series up to n\n",
    "    a, b = 0, 1\n",
    "    while a < n:\n",
    "        print(a, end=' ')\n",
    "        a, b = b, a+b\n",
    "    print()"
   ]
  },
  {
   "cell_type": "code",
   "execution_count": null,
   "metadata": {},
   "outputs": [],
   "source": [
    "dis.dis(fibo.fib)"
   ]
  },
  {
   "cell_type": "code",
   "execution_count": null,
   "metadata": {},
   "outputs": [],
   "source": [
    "# import sys\n",
    "argv = ['demo.py', 'one', 'two', 'three']\n",
    "print(len(argv),\" arguments: \")\n",
    "for items in enumerate(argv):\n",
    "    print(f\"{items[0]+1}: {items[1]}\")"
   ]
  },
  {
   "cell_type": "code",
   "execution_count": null,
   "metadata": {},
   "outputs": [],
   "source": [
    "dis.dis(magic_calculation)"
   ]
  },
  {
   "cell_type": "code",
   "execution_count": null,
   "metadata": {},
   "outputs": [],
   "source": [
    "def magic_calculation(a, b):\n",
    "    from magic_calculation_102 import add, sub\n",
    "    if a < b:\n",
    "        c = add(a, b)\n",
    "        for i in range(4, 6):\n",
    "            c = add(c, i)\n",
    "        return (c)\n",
    "\n",
    "    else:\n",
    "        return(sub(a, b))"
   ]
  },
  {
   "cell_type": "code",
   "execution_count": null,
   "metadata": {},
   "outputs": [],
   "source": [
    "import string\n",
    "print(string.ascii_letters)\n",
    "alpha = string.ascii_letters\n",
    "for item in alpha:\n",
    "    if item != \"a\":\n",
    "        print(item)"
   ]
  },
  {
   "cell_type": "code",
   "execution_count": null,
   "metadata": {},
   "outputs": [],
   "source": [
    "def fizzBuzz(n):\n",
    "    for m in range(10,(n+1)):\n",
    "        if m % 3 == 0 and m % 5 == 0:\n",
    "            print(\"FizzBuzz\")\n",
    "        elif m % 3 == 0:\n",
    "            print(\"Fizz\")\n",
    "        elif m % 5 == 0:\n",
    "            print(\"Buzz\")\n",
    "        else:\n",
    "            print(f\"{m:d}\")"
   ]
  },
  {
   "cell_type": "code",
   "execution_count": null,
   "metadata": {},
   "outputs": [],
   "source": [
    "teamA = [1, 4, 2, 4]\n",
    "teamB = [3, 5]"
   ]
  },
  {
   "cell_type": "code",
   "execution_count": null,
   "metadata": {},
   "outputs": [],
   "source": [
    "def counts(teamA, teamB):\n",
    "    dicts = {}\n",
    "    for i in teamB:\n",
    "        count = 0\n",
    "        for a in teamA:\n",
    "            if a <= i:\n",
    "                count+=1\n",
    "        dicts[i] = count\n",
    "    # print(dicts)\n",
    "    lst=[]\n",
    "    for vals in dicts:\n",
    "        lst.append(dicts[vals])\n",
    "    return lst"
   ]
  },
  {
   "cell_type": "code",
   "execution_count": null,
   "metadata": {},
   "outputs": [],
   "source": []
  },
  {
   "cell_type": "code",
   "execution_count": null,
   "metadata": {},
   "outputs": [],
   "source": [
    "teamA = [2, 10, 5, 4, 8]\n",
    "teamB = [3, 1, 7, 8]"
   ]
  },
  {
   "cell_type": "code",
   "execution_count": null,
   "metadata": {},
   "outputs": [],
   "source": [
    "def isPalindrome( x: int) -> bool:\n",
    "    val = str(x)\n",
    "    return val == val[::-1]"
   ]
  },
  {
   "cell_type": "code",
   "execution_count": null,
   "metadata": {},
   "outputs": [],
   "source": [
    "isPalindrome(123456789876543210)"
   ]
  },
  {
   "cell_type": "code",
   "execution_count": null,
   "metadata": {},
   "outputs": [],
   "source": [
    "def print_list_integer(my_list=[]):\n",
    "    for integer in my_list:\n",
    "        print(integer)\n",
    "\n",
    "my_list = [1, 2, 3, 4, 5]\n",
    "print_list_integer(my_list)"
   ]
  },
  {
   "cell_type": "code",
   "execution_count": null,
   "metadata": {},
   "outputs": [],
   "source": [
    "def romanToInt(s: str) -> int:\n",
    "    rom_int = {\n",
    "        \"I\":1,\n",
    "        \"V\":5,\n",
    "        \"X\":10,\n",
    "        \"L\":50,\n",
    "        \"C\":100,\n",
    "        \"D\":500,\n",
    "        \"M\":1000\n",
    "        }\n",
    "    sum = 0\n",
    "    for i in range(len(s)):\n",
    "        print(s[i])\n",
    "        if  rom_int[s[i-1]] > rom_int[s[i]]:\n",
    "            sum += rom_int[s[i]]\n",
    "        else:\n",
    "            sum -= rom_int[s[i]]\n",
    "\n",
    "    # return(sum)"
   ]
  },
  {
   "cell_type": "code",
   "execution_count": null,
   "metadata": {},
   "outputs": [],
   "source": [
    "s = \"MVII\"\n",
    "romanToInt(s)"
   ]
  },
  {
   "cell_type": "code",
   "execution_count": null,
   "metadata": {},
   "outputs": [],
   "source": [
    "def print_reversed_list_integer(my_list=[]):\n",
    "    for i in my_list[::-1]:\n",
    "        print(i)\n"
   ]
  },
  {
   "cell_type": "code",
   "execution_count": null,
   "metadata": {},
   "outputs": [],
   "source": [
    "my_list = [1, 2, 3, 4, 5]\n",
    "print_reversed_list_integer(my_list)"
   ]
  },
  {
   "cell_type": "code",
   "execution_count": null,
   "metadata": {},
   "outputs": [],
   "source": [
    "my_list = [1, 2, 3, 4, 5]\n",
    "new_list = my_list.copy()"
   ]
  },
  {
   "cell_type": "code",
   "execution_count": null,
   "metadata": {},
   "outputs": [],
   "source": [
    "new_list.append(23)"
   ]
  },
  {
   "cell_type": "code",
   "execution_count": null,
   "metadata": {},
   "outputs": [],
   "source": [
    "my_list"
   ]
  },
  {
   "cell_type": "code",
   "execution_count": null,
   "metadata": {},
   "outputs": [],
   "source": [
    "my_string = \"Welcome to school Collins\"\n",
    "\n",
    "# my_string.index('c')"
   ]
  },
  {
   "cell_type": "code",
   "execution_count": null,
   "metadata": {},
   "outputs": [],
   "source": [
    "def no_c(my_string):\n",
    "    new_str=\"\"\n",
    "    for char in my_string:\n",
    "        if char != 'c' and char != 'C':\n",
    "            new_str += char \n",
    "    return new_str"
   ]
  },
  {
   "cell_type": "code",
   "execution_count": null,
   "metadata": {},
   "outputs": [],
   "source": [
    "matrix = [\n",
    "    [1, 2, 3],\n",
    "    [4, 5, 6],\n",
    "    [7, 8, 9]\n",
    "]\n",
    "matrix"
   ]
  },
  {
   "cell_type": "code",
   "execution_count": null,
   "metadata": {},
   "outputs": [],
   "source": [
    "for items in matrix:\n",
    "    for mat in items:\n",
    "        print(mat,end=\" \")\n",
    "    print(\"\")"
   ]
  },
  {
   "cell_type": "code",
   "execution_count": null,
   "metadata": {},
   "outputs": [],
   "source": [
    "tuple_a = (1, 89)\n",
    "tuple_b = (88, 11)"
   ]
  },
  {
   "cell_type": "code",
   "execution_count": null,
   "metadata": {},
   "outputs": [],
   "source": [
    "if len(tuple_a) < 2:\n",
    "    tuple_a.append(0)\n",
    "if len(tuple_b) < 2:\n",
    "    tuple_b.append(0)\n",
    "tup_add = []\n",
    "for i in range(len(tuple_a)):\n",
    "    tup_add.append(tuple_a[i] + tuple_b[i])\n",
    "# return tuple(tup_add)"
   ]
  },
  {
   "cell_type": "code",
   "execution_count": null,
   "metadata": {},
   "outputs": [],
   "source": [
    "tup_add"
   ]
  },
  {
   "cell_type": "code",
   "execution_count": null,
   "metadata": {},
   "outputs": [],
   "source": [
    "tuple_a += (0,)"
   ]
  },
  {
   "cell_type": "code",
   "execution_count": null,
   "metadata": {},
   "outputs": [],
   "source": [
    "my_list = [0, 1, 2, 3, 4, 5, 6]\n",
    "bool_list = []\n",
    "for item in my_list:\n",
    "    if item % 2 == 0:\n",
    "        bool_list.append(True)\n",
    "    else:\n",
    "        bool_list.append(False)"
   ]
  },
  {
   "cell_type": "markdown",
   "metadata": {},
   "source": [
    "##### Errors and Exceptions"
   ]
  },
  {
   "cell_type": "code",
   "execution_count": 10,
   "metadata": {},
   "outputs": [
    {
     "name": "stdout",
     "output_type": "stream",
     "text": [
      "There is a syntax error in your code\n",
      "division by zero\n"
     ]
    }
   ],
   "source": [
    "try:\n",
    "    10 * (1/0)\n",
    "except ZeroDivisionError as syn:\n",
    "    print(f\"There is a syntax error in your code\\n{syn}\")"
   ]
  },
  {
   "cell_type": "code",
   "execution_count": 35,
   "metadata": {},
   "outputs": [],
   "source": [
    "my_list = [0, 1, 2, 3, 4, 5, 6,\"fish\"]\n",
    "def safe_print_list(my_list=[], x=0):\n",
    "    count = 0\n",
    "    for i in range(x):\n",
    "        try:\n",
    "            print(f\"{my_list[i]}\",end='')#print each element at index i\n",
    "            count += 1#keeping count of items in my_list\n",
    "        except IndexError:#catch errors relating to list indexing\n",
    "            break\n",
    "    print(\"\")#to add a new line\n",
    "    return (count)\n"
   ]
  },
  {
   "cell_type": "code",
   "execution_count": 43,
   "metadata": {},
   "outputs": [],
   "source": [
    "def safe_print_integer(value):\n",
    "    try:\n",
    "        print(\"{:d}\".format(value))\n",
    "        return(True)\n",
    "    except ValueError:\n",
    "        return(False)"
   ]
  },
  {
   "cell_type": "code",
   "execution_count": 87,
   "metadata": {},
   "outputs": [],
   "source": [
    "my_list = [0, 1, 2, 3,\"fish\", 4, 5, 6]\n",
    "def safe_print_list_integers(my_list=[], x=0):\n",
    "    counts = 0\n",
    "    for i in range(x):\n",
    "        try:\n",
    "            print(\"{:d}\".format(my_list[i]), end=\"\")\n",
    "            counts += 1\n",
    "        except (ValueError, TypeError):\n",
    "            pass\n",
    "    print(\"\")\n",
    "    return (counts)"
   ]
  },
  {
   "cell_type": "code",
   "execution_count": 111,
   "metadata": {},
   "outputs": [],
   "source": [
    "def safe_print_division(a, b):\n",
    "    try:\n",
    "        value = a / b\n",
    "    except (ZeroDivisionError,TypeError):\n",
    "        value = None\n",
    "    finally:\n",
    "        print(\"Inside result: {}\".format(value))\n",
    "    return (value)"
   ]
  },
  {
   "cell_type": "code",
   "execution_count": 115,
   "metadata": {},
   "outputs": [],
   "source": [
    "def list_division(my_list_1, my_list_2, list_length):\n",
    "    result = []\n",
    "    for i in range(list_length):\n",
    "        try:\n",
    "            val = my_list_1[i] / my_list_2[i]\n",
    "        except ZeroDivisionError:\n",
    "            print(\"division by 0\")\n",
    "            val  = 0\n",
    "        except IndexError:\n",
    "            print(\"out of range\")\n",
    "            val  = 0\n",
    "        except TypeError:\n",
    "            print(\"wrong type\")\n",
    "            val  = 0\n",
    "        finally:\n",
    "            result.append(val)\n",
    "    return result\n"
   ]
  },
  {
   "cell_type": "code",
   "execution_count": 118,
   "metadata": {},
   "outputs": [],
   "source": [
    "def raise_exception():\n",
    "    raise TypeError"
   ]
  },
  {
   "cell_type": "code",
   "execution_count": 133,
   "metadata": {},
   "outputs": [
    {
     "name": "stdout",
     "output_type": "stream",
     "text": [
      "C is not fun\n"
     ]
    }
   ],
   "source": [
    "def raise_exception_msg(message=\"\"):\n",
    "    raise NameError(message)\n",
    "\n",
    "try:\n",
    "    raise_exception_msg(\"C is not fun\")\n",
    "except NameError as ne:\n",
    "    print(ne)"
   ]
  },
  {
   "cell_type": "code",
   "execution_count": 147,
   "metadata": {},
   "outputs": [],
   "source": [
    "#!/usr/bin/python3\n",
    "import sys\n",
    "\n",
    "\n",
    "def safe_print_integer_err(value):\n",
    "    try:\n",
    "        print(\"{:d}\".format(value))\n",
    "        return (True)\n",
    "    except (TypeError, ValueError):\n",
    "        print(\"Exception: {}\".format(sys.exc_info()[1]), file=sys.stderr)\n",
    "        return (False)"
   ]
  },
  {
   "cell_type": "code",
   "execution_count": 150,
   "metadata": {},
   "outputs": [
    {
     "name": "stdout",
     "output_type": "stream",
     "text": [
      "89\n",
      "-89\n",
      "School is not an integer\n"
     ]
    },
    {
     "name": "stderr",
     "output_type": "stream",
     "text": [
      "Exception: Unknown format code 'd' for object of type 'str'\n"
     ]
    }
   ],
   "source": [
    "value = 89\n",
    "has_been_print = safe_print_integer_err(value)\n",
    "if not has_been_print:\n",
    "    print(\"{} is not an integer\".format(value))\n",
    "\n",
    "value = -89\n",
    "has_been_print = safe_print_integer_err(value)\n",
    "if not has_been_print:\n",
    "    print(\"{} is not an integer\".format(value))\n",
    "\n",
    "value = \"School\"\n",
    "has_been_print = safe_print_integer_err(value)\n",
    "if not has_been_print:\n",
    "    print(\"{} is not an integer\".format(value))"
   ]
  },
  {
   "cell_type": "code",
   "execution_count": 151,
   "metadata": {},
   "outputs": [],
   "source": [
    "#!/usr/bin/python3\n",
    "\n",
    "import sys\n",
    "\n",
    "\n",
    "def safe_function(fct, *args):\n",
    "    try:\n",
    "        result = fct(*args)\n",
    "        return (result)\n",
    "    except:\n",
    "        print(\"Exception: {}\".format(sys.exc_info()[1]), file=sys.stderr)\n",
    "        return (None)"
   ]
  },
  {
   "cell_type": "code",
   "execution_count": 152,
   "metadata": {},
   "outputs": [
    {
     "name": "stdout",
     "output_type": "stream",
     "text": [
      "result of my_div: 5.0\n",
      "result of my_div: None\n",
      "1\n",
      "2\n",
      "3\n",
      "4\n",
      "result of print_list: None\n"
     ]
    },
    {
     "name": "stderr",
     "output_type": "stream",
     "text": [
      "Exception: division by zero\n",
      "Exception: list index out of range\n"
     ]
    }
   ],
   "source": [
    "def my_div(a, b):\n",
    "    return a / b\n",
    "\n",
    "result = safe_function(my_div, 10, 2)\n",
    "print(\"result of my_div: {}\".format(result))\n",
    "\n",
    "result = safe_function(my_div, 10, 0)\n",
    "print(\"result of my_div: {}\".format(result))\n",
    "\n",
    "\n",
    "def print_list(my_list, len):\n",
    "    i = 0\n",
    "    while i < len:\n",
    "        print(my_list[i])\n",
    "        i += 1\n",
    "    return len\n",
    "\n",
    "result = safe_function(print_list, [1, 2, 3, 4], 10)\n",
    "print(\"result of print_list: {}\".format(result))"
   ]
  },
  {
   "cell_type": "markdown",
   "metadata": {},
   "source": [
    "#### 0x06. Python - Classes and Objects\n"
   ]
  },
  {
   "cell_type": "code",
   "execution_count": 4,
   "metadata": {},
   "outputs": [
    {
     "name": "stdout",
     "output_type": "stream",
     "text": [
      "Area: 7921 for size: 89\n",
      "Area: 9 for size: 3\n",
      "size must be an integer\n"
     ]
    }
   ],
   "source": [
    "class Square:\n",
    "    \"\"\"Represent a square.\"\"\"\n",
    "\n",
    "    def __init__(self, size=0):\n",
    "        \"\"\"Initialize a new square.\n",
    "\n",
    "        Args:\n",
    "            size (int): The size of the new square.\n",
    "        \"\"\"\n",
    "        self.size = size\n",
    "\n",
    "    @property\n",
    "    def size(self):\n",
    "        \"\"\"Get/set the current size of the square.\"\"\"\n",
    "        return (self.__size)\n",
    "\n",
    "    @size.setter\n",
    "    def size(self, value):\n",
    "        if not isinstance(value, int):\n",
    "            raise TypeError(\"size must be an integer\")\n",
    "        elif value < 0:\n",
    "            raise ValueError(\"size must be >= 0\")\n",
    "        self.__size = value\n",
    "\n",
    "    def area(self):\n",
    "        \"\"\"Return the current area of the square.\"\"\"\n",
    "        return (self.__size * self.__size)\n",
    "    def my_print(self):\n",
    "        \"\"\"prints the square\n",
    "        Returns:\n",
    "            None\n",
    "        \"\"\"\n",
    "        if self.__size == 0:\n",
    "            print()\n",
    "            return\n",
    "        for i in range(self.__size):\n",
    "            print(\"\".join([\"#\" for j in range(self.__size)]))\n",
    "\"\"\"=======================================================================================================\"\"\"\n",
    "my_square = Square(89)\n",
    "print(\"Area: {} for size: {}\".format(my_square.area(), my_square.size))\n",
    "\n",
    "my_square.size = 3\n",
    "print(\"Area: {} for size: {}\".format(my_square.area(), my_square.size))\n",
    "\n",
    "try:\n",
    "    my_square.size = \"5 feet\"\n",
    "    print(\"Area: {} for size: {}\".format(my_square.area(), my_square.size))\n",
    "except Exception as e:\n",
    "    print(e)\n"
   ]
  },
  {
   "cell_type": "code",
   "execution_count": null,
   "metadata": {},
   "outputs": [],
   "source": []
  },
  {
   "cell_type": "markdown",
   "metadata": {},
   "source": []
  },
  {
   "cell_type": "code",
   "execution_count": 20,
   "metadata": {},
   "outputs": [
    {
     "name": "stdout",
     "output_type": "stream",
     "text": [
      "###\n",
      "###\n",
      "###\n",
      "--\n",
      "##########\n",
      "##########\n",
      "##########\n",
      "##########\n",
      "##########\n",
      "##########\n",
      "##########\n",
      "##########\n",
      "##########\n",
      "##########\n",
      "--\n",
      "\n",
      "--\n"
     ]
    }
   ],
   "source": [
    "my_square = Square(3)\n",
    "my_square.my_print()\n",
    "\n",
    "print(\"--\")\n",
    "\n",
    "my_square.size = 10\n",
    "my_square.my_print()\n",
    "\n",
    "print(\"--\")\n",
    "\n",
    "my_square.size = 0\n",
    "my_square.my_print()\n",
    "\n",
    "print(\"--\")"
   ]
  },
  {
   "cell_type": "code",
   "execution_count": 9,
   "metadata": {},
   "outputs": [
    {
     "data": {
      "text/plain": [
       "'#1#1#'"
      ]
     },
     "execution_count": 9,
     "metadata": {},
     "output_type": "execute_result"
    }
   ],
   "source": [
    "\"1\".join([\"#\" for j in range(3)])"
   ]
  },
  {
   "cell_type": "code",
   "execution_count": 3,
   "metadata": {},
   "outputs": [
    {
     "name": "stdout",
     "output_type": "stream",
     "text": [
      "##########\n",
      "##########\n",
      "##########\n",
      "##########\n",
      "##########\n",
      "##########\n",
      "##########\n",
      "##########\n",
      "##########\n",
      "##########\n"
     ]
    }
   ],
   "source": [
    "size = 10\n",
    "for i in range(size):\n",
    "    print(\"\".join(\"#\" for j in range(size)))"
   ]
  },
  {
   "cell_type": "code",
   "execution_count": 23,
   "metadata": {},
   "outputs": [
    {
     "ename": "SyntaxError",
     "evalue": "invalid syntax (113167902.py, line 1)",
     "output_type": "error",
     "traceback": [
      "\u001b[0;36m  Input \u001b[0;32mIn [23]\u001b[0;36m\u001b[0m\n\u001b[0;31m    \"#\" for j in range(5)\u001b[0m\n\u001b[0m        ^\u001b[0m\n\u001b[0;31mSyntaxError\u001b[0m\u001b[0;31m:\u001b[0m invalid syntax\n"
     ]
    }
   ],
   "source": []
  },
  {
   "cell_type": "code",
   "execution_count": 88,
   "metadata": {},
   "outputs": [],
   "source": [
    "class Family:\n",
    "    def __init__(self, family_name:str=None, family_size:int=0, family_lang:str=None):\n",
    "        self.family_name = family_name\n",
    "        self.family_size = family_size\n",
    "        self.family_lang = family_lang\n",
    "    \n",
    "    @property\n",
    "    def family_name(self):\n",
    "        return (self.__family_name)\n",
    "    \n",
    "    @family_name.setter\n",
    "    def family_name(self, value:str):\n",
    "        if not isinstance(value, str):\n",
    "            raise TypeError(\"family_name must be a string\")\n",
    "        elif value == \"\":\n",
    "            raise ValueError(\"family_name cannot be empty\")\n",
    "        else:\n",
    "            self.__family_name = value\n",
    "\n",
    "    @property\n",
    "    def family_size(self):\n",
    "        return (self.__family_size)\n",
    "    \n",
    "    @family_size.setter\n",
    "    def family_size(self, value:int):\n",
    "        if not isinstance(value, int):\n",
    "            raise TypeError(\"family_size must be an integer\")\n",
    "        elif value <= 0:\n",
    "            raise ValueError(\"Nobody in this family ?\")\n",
    "        else:\n",
    "            self.__family_size = value\n",
    "\n",
    "    @property\n",
    "    def family_lang(self):\n",
    "        return (self.__family_lang)\n",
    "    \n",
    "    @family_lang.setter\n",
    "    def family_lang(self, value:str):\n",
    "        if not isinstance(value, str):\n",
    "            raise TypeError(\"family_lang must be a string\")\n",
    "        elif value == \"\":\n",
    "            raise ValueError(\"Are they all deaf and dumb ?\")\n",
    "        else:\n",
    "            self.__family_lang = value\n",
    "    def __str__(self) -> str:\n",
    "        return (f\"{self.__family_name}, {self.__family_size}, {self.__family_lang}\")"
   ]
  },
  {
   "cell_type": "code",
   "execution_count": 89,
   "metadata": {},
   "outputs": [],
   "source": [
    "Fash = Family(\"Fasogba\", 10,\"Yoruba\")\n",
    "Fash.family_name = \"Fasogbas\"\n",
    "Fash.family_size = 10"
   ]
  },
  {
   "cell_type": "code",
   "execution_count": 90,
   "metadata": {},
   "outputs": [
    {
     "name": "stdout",
     "output_type": "stream",
     "text": [
      "Fasogbas, 10, Yoruba\n"
     ]
    }
   ],
   "source": [
    "print(Fash)"
   ]
  },
  {
   "cell_type": "code",
   "execution_count": 4,
   "metadata": {},
   "outputs": [],
   "source": [
    "def print_square(size):\n",
    "    \"\"\"Prints a square\n",
    "\n",
    "    Args:\n",
    "        size (int): size of the square to print\n",
    "\n",
    "    Raises:\n",
    "        TypeError: if the size is not an integer\n",
    "        TypeError: if the size is not a postive floating point number\n",
    "        ValueError: if size is less than zero(0)\n",
    "\n",
    "    Returns: None\n",
    "    \"\"\"\n",
    "    if not isinstance(size, int) and not isinstance(size, float):\n",
    "        raise TypeError(\"size must be an integer\")\n",
    "    elif size < 0:\n",
    "        raise ValueError(\"size must be >= 0\")\n",
    "    else:\n",
    "        for i in range(int(size)):\n",
    "            print(\"\".join(\"#\" for j in range(int(size))))\n"
   ]
  },
  {
   "cell_type": "code",
   "execution_count": 34,
   "metadata": {},
   "outputs": [
    {
     "name": "stdout",
     "output_type": "stream",
     "text": [
      "The docstring for a function or method should summarize its behavior and document its arguments and return values.\n",
      "\n",
      "It should also list all the exceptions that can be raised and other optional arguments.\n",
      "\n",
      "Example 5:\n",
      "\n",
      "Docstrings for Python functions def add_binary(a, b):\n",
      "\n",
      "''' Returns the sum of two decimal numbers in binary digits.\n"
     ]
    }
   ],
   "source": [
    "def text_indentation(text):\n",
    "    \"\"\" Prints a text with 2 new lines after each of these characters: `.`, `?` and `:`\n",
    "    Args:\n",
    "        text (string): The string to indent\n",
    "\n",
    "    Returns: None\n",
    "\n",
    "    Usage:\n",
    "        text_indentation(text)\n",
    "    \"\"\"\n",
    "    if not isinstance(text, str):\n",
    "        raise TypeError(\"text must be a string\")\n",
    "\n",
    "    result = text.replace('. ', '.\\n\\n').replace(': ', ':\\n\\n')\\\n",
    "        .replace('? ', '?\\n\\n')\n",
    "    print(result)\n",
    "\n",
    "text = \"The docstring for a function or method should summarize its behavior and document its arguments and return values. It should also list all the exceptions that can be raised and other optional arguments. Example 5: Docstrings for Python functions def add_binary(a, b): ''' Returns the sum of two decimal numbers in binary digits.\"\n",
    "text_indentation(text)"
   ]
  },
  {
   "cell_type": "code",
   "execution_count": 47,
   "metadata": {},
   "outputs": [],
   "source": [
    "class Rectangle:\n",
    "    \"\"\"Class representation of a rectangle.\n",
    "    Attributes:\n",
    "        number_of_instances (int): The number of rectangle instances created.\n",
    "    \"\"\"\n",
    "    number_of_instances = 0\n",
    "    def __init__(self, width=0, height=0):\n",
    "        \"\"\"Initialize a new Rectangle.\n",
    "\n",
    "        Args:\n",
    "            width (int): instance width. Defaults to 0.\n",
    "            height (int): instance height. Defaults to 0.\n",
    "        \"\"\"\n",
    "        # increase the number of instances at instantiation\n",
    "        type(self).number_of_instances += 1\n",
    "        self.width = width\n",
    "        self.height = height\n",
    "\n",
    "    @property\n",
    "    def width(self):\n",
    "        \"\"\"Getter function for the width of the rectangle.\n",
    "        Returns: the width of the rectangle\n",
    "        \"\"\"\n",
    "        return self.__width\n",
    "\n",
    "    @width.setter\n",
    "    def width(self, value):\n",
    "        \"\"\"Setter function for the width of the rectangle.\"\"\"\n",
    "        if not isinstance(value, int):\n",
    "            raise TypeError(\"width must be an integer\")\n",
    "        if value < 0:\n",
    "            raise ValueError(\"width must be >= 0\")\n",
    "        self.__width = value\n",
    "\n",
    "    @property\n",
    "    def height(self):\n",
    "        \"\"\"Getter function for the height of the rectangle.\"\"\"\n",
    "        return self.__height\n",
    "\n",
    "    @height.setter\n",
    "    def height(self, value):\n",
    "        \"\"\"Setter function for the height of the rectangle.\n",
    "\n",
    "        Args:\n",
    "            value: The newly given height of the rectangle\n",
    "        \"\"\"\n",
    "        if not isinstance(value, int):\n",
    "            raise TypeError(\"height must be an integer\")\n",
    "        if value < 0:\n",
    "            raise ValueError(\"height must be >= 0\")\n",
    "        self.__height = value\n",
    "\n",
    "    def area(self):\n",
    "        \"\"\"Computes and returns the area of the Rectangle.\"\"\"\n",
    "        return (self.__width * self.__height)\n",
    "\n",
    "    def perimeter(self):\n",
    "        \"\"\"Returns the perimeter of the Rectangle.\"\"\"\n",
    "        if self.__width == 0 or self.__height == 0:\n",
    "            return (0)\n",
    "        return ((self.__width * 2) + (self.__height * 2))\n",
    "\n",
    "    def __str__(self):\n",
    "        \"\"\"Return the string representation of the Rectangle.\n",
    "\n",
    "        Represents the rectangle with the # character.\n",
    "        \"\"\"\n",
    "        if self.__width == 0 or self.__height == 0:\n",
    "            return (\"\")\n",
    "\n",
    "        reps = []\n",
    "        for i in range(self.__height):\n",
    "            [reps.append('#') for j in range(self.__width)]\n",
    "            if i != self.__height - 1:\n",
    "                reps.append(\"\\n\")\n",
    "        return (\"\".join(reps))\n",
    "\n",
    "    def __repr__(self):\n",
    "        \"\"\"Return the string representation of the Rectangle.\"\"\"\n",
    "        rect = \"Rectangle(\" + str(self.__width)\n",
    "        rect += \", \" + str(self.__height) + \")\"\n",
    "        return (rect)\n",
    "\n",
    "    def __del__(self):\n",
    "        \"\"\"Print a message for every deletion instance of a Rectangle.\"\"\"\n",
    "        # decrease the number of instances at deletion\n",
    "        type(self).number_of_instances -= 1\n",
    "        print(\"Bye rectangle...\")\n"
   ]
  },
  {
   "cell_type": "code",
   "execution_count": 48,
   "metadata": {},
   "outputs": [
    {
     "name": "stdout",
     "output_type": "stream",
     "text": [
      "2 instances of Rectangle\n",
      "Bye rectangle...\n",
      "1 instances of Rectangle\n",
      "Bye rectangle...\n",
      "0 instances of Rectangle\n"
     ]
    }
   ],
   "source": [
    "my_rectangle_1 = Rectangle(2, 4)\n",
    "my_rectangle_2 = Rectangle(2, 4)\n",
    "print(\"{:d} instances of Rectangle\".format(Rectangle.number_of_instances))\n",
    "del my_rectangle_1\n",
    "print(\"{:d} instances of Rectangle\".format(Rectangle.number_of_instances))\n",
    "del my_rectangle_2\n",
    "print(\"{:d} instances of Rectangle\".format(Rectangle.number_of_instances))\n"
   ]
  },
  {
   "cell_type": "code",
   "execution_count": 96,
   "metadata": {},
   "outputs": [],
   "source": [
    "def matrix_mul(m_a, m_b):\n",
    "# checks m_a & m_b  to determine if they're lists\n",
    "    if not isinstance(m_a, list):\n",
    "        raise TypeError(\"m_a must be a list\")\n",
    "    if not isinstance(m_b, list):\n",
    "        raise TypeError(\"m_b must be a list\")\n",
    "\n",
    "# checks m_a  to determine if it is a list of lists\n",
    "    if not all (isinstance(row, list) for row in m_a):\n",
    "        raise TypeError(\"m_a must be a list of lists\")\n",
    "\n",
    "# checks m_b to determine if it is a list of lists\n",
    "    if not all (isinstance(row, list) for row in m_b):\n",
    "        raise TypeError(\"m_b must be a list of lists\")\n",
    "\n",
    "# checks empty list or list of lists\n",
    "    if m_a == [] or m_a == [[]]:\n",
    "        raise TypeError(\"m_a can't be empty\")\n",
    "    if m_b == [] or m_b == [[]]:\n",
    "        raise TypeError(\"m_b can't be empty\")\n",
    "\n",
    "# checks if individual elements of matrix is an int or float\n",
    "    if not all((isinstance(elem, int) or isinstance(elem, float))\n",
    "        for elem in [num for row in m_a for num in row]):\n",
    "            raise TypeError(\"m_a should contain only integers or floats\")\n",
    "    if not all((isinstance(elem, int) or isinstance(elem, float))\n",
    "        for elem in [num for row in m_b for num in row]):\n",
    "            raise TypeError(\"m_b should contain only integers or floats\")\n",
    "\n",
    "# checks matirx row equality\n",
    "    if not all(len(row) == len(m_a[0]) for row in m_a):\n",
    "        raise TypeError(\"each row of m_a must should be of the same size\")\n",
    "    if not all(len(row) == len(m_b[0]) for row in m_b):\n",
    "        raise TypeError(\"each row of m_b must should be of the same size\")\n",
    "\n",
    "# checks matirx multiplication compatibility\n",
    "# for 2 matrix to be multiplied, len(m_a[0]) must be == len(m_b)\n",
    "    if len(m_a[0]) != len(m_b):\n",
    "        raise ValueError(\"m_a and m_b can't be multiplied\")\n",
    "# invert m_b\n",
    "    mb_inv = []\n",
    "    for e in range(len(m_b[0])):\n",
    "        new_row = []\n",
    "        for f in range(len(m_b)):\n",
    "            new_row.append(m_b[f][e])\n",
    "        mb_inv.append(new_row)\n",
    "\n",
    "# compute matrix multiplications\n",
    "    result_matrix = []\n",
    "    for row in m_a:\n",
    "        new_col = []\n",
    "        for col in mb_inv:\n",
    "            mult = 0\n",
    "            for i in range(len(mb_inv[0])):\n",
    "                mult += row[i] * col[i]\n",
    "            new_col.append(mult)\n",
    "        result_matrix.append(new_col)\n",
    "    return(result_matrix)\n"
   ]
  },
  {
   "cell_type": "code",
   "execution_count": 106,
   "metadata": {},
   "outputs": [
    {
     "ename": "TypeError",
     "evalue": "m_a should contain only integers or floats",
     "output_type": "error",
     "traceback": [
      "\u001b[0;31m---------------------------------------------------------------------------\u001b[0m",
      "\u001b[0;31mTypeError\u001b[0m                                 Traceback (most recent call last)",
      "\u001b[1;32m/home/imitor/Documents/git_repos/ALX_FSE/alx-higher_level_programming/learn.ipynb Cell 72\u001b[0m in \u001b[0;36m<cell line: 4>\u001b[0;34m()\u001b[0m\n\u001b[1;32m      <a href='vscode-notebook-cell:/home/imitor/Documents/git_repos/ALX_FSE/alx-higher_level_programming/learn.ipynb#Y131sZmlsZQ%3D%3D?line=1'>2</a>\u001b[0m a \u001b[39m=\u001b[39m [[[\u001b[39m2\u001b[39m , \u001b[39m4\u001b[39m], [\u001b[39m5\u001b[39m, \u001b[39m6\u001b[39m]], [[\u001b[39m1\u001b[39m, \u001b[39m3\u001b[39m], [\u001b[39m4\u001b[39m, \u001b[39m3\u001b[39m]]]\n\u001b[1;32m      <a href='vscode-notebook-cell:/home/imitor/Documents/git_repos/ALX_FSE/alx-higher_level_programming/learn.ipynb#Y131sZmlsZQ%3D%3D?line=2'>3</a>\u001b[0m b \u001b[39m=\u001b[39m [[\u001b[39m1\u001b[39m, \u001b[39m2\u001b[39m, \u001b[39m3\u001b[39m], [\u001b[39m2\u001b[39m,\u001b[39m3\u001b[39m, \u001b[39m4\u001b[39m], [\u001b[39m4\u001b[39m, \u001b[39m2\u001b[39m, \u001b[39m7\u001b[39m]]\n\u001b[0;32m----> <a href='vscode-notebook-cell:/home/imitor/Documents/git_repos/ALX_FSE/alx-higher_level_programming/learn.ipynb#Y131sZmlsZQ%3D%3D?line=3'>4</a>\u001b[0m \u001b[39mprint\u001b[39m(matrix_mul(a, b))\n",
      "\u001b[1;32m/home/imitor/Documents/git_repos/ALX_FSE/alx-higher_level_programming/learn.ipynb Cell 72\u001b[0m in \u001b[0;36mmatrix_mul\u001b[0;34m(m_a, m_b)\u001b[0m\n\u001b[1;32m     <a href='vscode-notebook-cell:/home/imitor/Documents/git_repos/ALX_FSE/alx-higher_level_programming/learn.ipynb#Y131sZmlsZQ%3D%3D?line=21'>22</a>\u001b[0m \u001b[39m# checks if individual elements of matrix is an int or float\u001b[39;00m\n\u001b[1;32m     <a href='vscode-notebook-cell:/home/imitor/Documents/git_repos/ALX_FSE/alx-higher_level_programming/learn.ipynb#Y131sZmlsZQ%3D%3D?line=22'>23</a>\u001b[0m     \u001b[39mif\u001b[39;00m \u001b[39mnot\u001b[39;00m \u001b[39mall\u001b[39m((\u001b[39misinstance\u001b[39m(elem, \u001b[39mint\u001b[39m) \u001b[39mor\u001b[39;00m \u001b[39misinstance\u001b[39m(elem, \u001b[39mfloat\u001b[39m))\n\u001b[1;32m     <a href='vscode-notebook-cell:/home/imitor/Documents/git_repos/ALX_FSE/alx-higher_level_programming/learn.ipynb#Y131sZmlsZQ%3D%3D?line=23'>24</a>\u001b[0m         \u001b[39mfor\u001b[39;00m elem \u001b[39min\u001b[39;00m [num \u001b[39mfor\u001b[39;00m row \u001b[39min\u001b[39;00m m_a \u001b[39mfor\u001b[39;00m num \u001b[39min\u001b[39;00m row]):\n\u001b[0;32m---> <a href='vscode-notebook-cell:/home/imitor/Documents/git_repos/ALX_FSE/alx-higher_level_programming/learn.ipynb#Y131sZmlsZQ%3D%3D?line=24'>25</a>\u001b[0m             \u001b[39mraise\u001b[39;00m \u001b[39mTypeError\u001b[39;00m(\u001b[39m\"\u001b[39m\u001b[39mm_a should contain only integers or floats\u001b[39m\u001b[39m\"\u001b[39m)\n\u001b[1;32m     <a href='vscode-notebook-cell:/home/imitor/Documents/git_repos/ALX_FSE/alx-higher_level_programming/learn.ipynb#Y131sZmlsZQ%3D%3D?line=25'>26</a>\u001b[0m     \u001b[39mif\u001b[39;00m \u001b[39mnot\u001b[39;00m \u001b[39mall\u001b[39m((\u001b[39misinstance\u001b[39m(elem, \u001b[39mint\u001b[39m) \u001b[39mor\u001b[39;00m \u001b[39misinstance\u001b[39m(elem, \u001b[39mfloat\u001b[39m))\n\u001b[1;32m     <a href='vscode-notebook-cell:/home/imitor/Documents/git_repos/ALX_FSE/alx-higher_level_programming/learn.ipynb#Y131sZmlsZQ%3D%3D?line=26'>27</a>\u001b[0m         \u001b[39mfor\u001b[39;00m elem \u001b[39min\u001b[39;00m [num \u001b[39mfor\u001b[39;00m row \u001b[39min\u001b[39;00m m_b \u001b[39mfor\u001b[39;00m num \u001b[39min\u001b[39;00m row]):\n\u001b[1;32m     <a href='vscode-notebook-cell:/home/imitor/Documents/git_repos/ALX_FSE/alx-higher_level_programming/learn.ipynb#Y131sZmlsZQ%3D%3D?line=27'>28</a>\u001b[0m             \u001b[39mraise\u001b[39;00m \u001b[39mTypeError\u001b[39;00m(\u001b[39m\"\u001b[39m\u001b[39mm_b should contain only integers or floats\u001b[39m\u001b[39m\"\u001b[39m)\n",
      "\u001b[0;31mTypeError\u001b[0m: m_a should contain only integers or floats"
     ]
    }
   ],
   "source": [
    "# matrix_mul([[1, 2,3], [2,3, 4]], [[4, 2.3], [3, 4]])\n",
    "a = [[[2 , 4], [5, 6]], [[1, 3], [4, 3]]]\n",
    "b = [[1, 2, 3], [2,3, 4], [4, 2, 7]]\n",
    "print(matrix_mul(a, b))"
   ]
  },
  {
   "cell_type": "code",
   "execution_count": 97,
   "metadata": {},
   "outputs": [
    {
     "name": "stdout",
     "output_type": "stream",
     "text": [
      "[[13, 16]]\n"
     ]
    }
   ],
   "source": [
    "print(matrix_mul([[1, 2]], [[3, 4], [5, 6]]))"
   ]
  },
  {
   "cell_type": "code",
   "execution_count": 115,
   "metadata": {},
   "outputs": [
    {
     "data": {
      "text/plain": [
       "3.6"
      ]
     },
     "execution_count": 115,
     "metadata": {},
     "output_type": "execute_result"
    }
   ],
   "source": [
    "x = 2.1\n",
    "y = x\n",
    "x = x + 1.5\n",
    "x"
   ]
  },
  {
   "cell_type": "code",
   "execution_count": 113,
   "metadata": {},
   "outputs": [
    {
     "name": "stdout",
     "output_type": "stream",
     "text": [
      "foo\n",
      "foo\n"
     ]
    }
   ],
   "source": [
    "x = 'foo'\n",
    "y = x\n",
    "print(x) # foo\n",
    "y += 'bar'\n",
    "print(x)"
   ]
  },
  {
   "cell_type": "code",
   "execution_count": 117,
   "metadata": {},
   "outputs": [
    {
     "name": "stdout",
     "output_type": "stream",
     "text": [
      "(1, 2, 3, 4)\n",
      "(1, 2, 3, 4, 1, 2, 3, 4)\n"
     ]
    }
   ],
   "source": [
    "x = (1, 2, 3, 4)\n",
    "y = x\n",
    "y *= 2\n",
    "print(x)\n",
    "print(y)"
   ]
  },
  {
   "cell_type": "code",
   "execution_count": 120,
   "metadata": {},
   "outputs": [],
   "source": [
    "a = \"this is slack\"\n",
    "b = a\n",
    "b += \"boy\""
   ]
  },
  {
   "cell_type": "code",
   "execution_count": 121,
   "metadata": {},
   "outputs": [
    {
     "data": {
      "text/plain": [
       "'this is slackboy'"
      ]
     },
     "execution_count": 121,
     "metadata": {},
     "output_type": "execute_result"
    }
   ],
   "source": [
    "b"
   ]
  },
  {
   "cell_type": "code",
   "execution_count": 5,
   "metadata": {},
   "outputs": [
    {
     "name": "stdout",
     "output_type": "stream",
     "text": [
      "7 8\n"
     ]
    }
   ],
   "source": [
    "a = 7\n",
    "b = a + 1\n",
    "\n",
    "print(a,b)"
   ]
  },
  {
   "cell_type": "code",
   "execution_count": 9,
   "metadata": {},
   "outputs": [
    {
     "name": "stdout",
     "output_type": "stream",
     "text": [
      "True\n"
     ]
    }
   ],
   "source": [
    "s1 = \"Best School\"\n",
    "s2 = \"Best School\"\n",
    "print(s1 == s2)"
   ]
  },
  {
   "cell_type": "code",
   "execution_count": 13,
   "metadata": {},
   "outputs": [
    {
     "name": "stdout",
     "output_type": "stream",
     "text": [
      "True\n"
     ]
    }
   ],
   "source": [
    "l1 = [1, 2, 3]\n",
    "l2 =  l1\n",
    "print(l1 == l2)"
   ]
  },
  {
   "cell_type": "code",
   "execution_count": 15,
   "metadata": {},
   "outputs": [
    {
     "name": "stdout",
     "output_type": "stream",
     "text": [
      "[1, 2, 3, 4]\n"
     ]
    }
   ],
   "source": [
    "l1 = [1, 2, 3]\n",
    "l2 = l1\n",
    "l1.append(4)\n",
    "print(l1)"
   ]
  },
  {
   "cell_type": "code",
   "execution_count": 18,
   "metadata": {},
   "outputs": [
    {
     "name": "stdout",
     "output_type": "stream",
     "text": [
      "[1, 2, 3]\n"
     ]
    }
   ],
   "source": [
    "l1 = [1, 2, 3]\n",
    "l2 = l1\n",
    "l1 = l1 + [4]\n",
    "print(l2)"
   ]
  },
  {
   "cell_type": "code",
   "execution_count": 24,
   "metadata": {},
   "outputs": [
    {
     "name": "stdout",
     "output_type": "stream",
     "text": [
      "2\n",
      "1\n"
     ]
    }
   ],
   "source": [
    "def increment(n):\n",
    "    n += 1\n",
    "    return(n)\n",
    "\n",
    "a = 1\n",
    "print(increment(a))\n",
    "print(a)"
   ]
  },
  {
   "cell_type": "code",
   "execution_count": 25,
   "metadata": {},
   "outputs": [
    {
     "name": "stdout",
     "output_type": "stream",
     "text": [
      "[1, 2, 3, 4]\n"
     ]
    }
   ],
   "source": [
    "def increment(n):\n",
    "    n.append(4)\n",
    "\n",
    "l = [1, 2, 3]\n",
    "increment(l)\n",
    "print(l)"
   ]
  },
  {
   "cell_type": "code",
   "execution_count": 26,
   "metadata": {},
   "outputs": [
    {
     "name": "stdout",
     "output_type": "stream",
     "text": [
      "[1, 2, 3]\n"
     ]
    }
   ],
   "source": [
    "def assign_value(n, v):\n",
    "    n = v\n",
    "\n",
    "l1 = [1, 2, 3]\n",
    "l2 = [4, 5, 6]\n",
    "assign_value(l1, l2)\n",
    "print(l1)"
   ]
  },
  {
   "cell_type": "code",
   "execution_count": 31,
   "metadata": {},
   "outputs": [],
   "source": [
    "def copy_list(l):\n",
    "    nc = l[:]\n",
    "    return nc"
   ]
  },
  {
   "cell_type": "code",
   "execution_count": 34,
   "metadata": {},
   "outputs": [
    {
     "data": {
      "text/plain": [
       "[1, 2, 3]"
      ]
     },
     "execution_count": 34,
     "metadata": {},
     "output_type": "execute_result"
    }
   ],
   "source": [
    "l1 = [1, 2, 3]\n",
    "l2 = copy_list(l1)\n",
    "l2 += [4]\n",
    "l1"
   ]
  },
  {
   "cell_type": "code",
   "execution_count": 35,
   "metadata": {},
   "outputs": [
    {
     "data": {
      "text/plain": [
       "[1, 2, 3, 4]"
      ]
     },
     "execution_count": 35,
     "metadata": {},
     "output_type": "execute_result"
    }
   ],
   "source": [
    "l2"
   ]
  },
  {
   "cell_type": "code",
   "execution_count": 38,
   "metadata": {},
   "outputs": [
    {
     "data": {
      "text/plain": [
       "int"
      ]
     },
     "execution_count": 38,
     "metadata": {},
     "output_type": "execute_result"
    }
   ],
   "source": [
    "a = (1)\n",
    "type(a)"
   ]
  },
  {
   "cell_type": "code",
   "execution_count": 39,
   "metadata": {},
   "outputs": [
    {
     "data": {
      "text/plain": [
       "True"
      ]
     },
     "execution_count": 39,
     "metadata": {},
     "output_type": "execute_result"
    }
   ],
   "source": [
    "a = (1)\n",
    "b = (1)\n",
    "a is b"
   ]
  },
  {
   "cell_type": "code",
   "execution_count": 40,
   "metadata": {},
   "outputs": [
    {
     "data": {
      "text/plain": [
       "False"
      ]
     },
     "execution_count": 40,
     "metadata": {},
     "output_type": "execute_result"
    }
   ],
   "source": [
    "a = (1, 2)\n",
    "b = (1, 2)\n",
    "a is b"
   ]
  },
  {
   "cell_type": "code",
   "execution_count": 43,
   "metadata": {},
   "outputs": [
    {
     "data": {
      "text/plain": [
       "140238935773248"
      ]
     },
     "execution_count": 43,
     "metadata": {},
     "output_type": "execute_result"
    }
   ],
   "source": [
    "a = ()\n",
    "b = ()\n",
    "id(a) #is id(b)"
   ]
  },
  {
   "cell_type": "code",
   "execution_count": 48,
   "metadata": {},
   "outputs": [
    {
     "name": "stdout",
     "output_type": "stream",
     "text": [
      "140238304124352\n",
      "140238304124352\n"
     ]
    }
   ],
   "source": [
    "a = [1, 2, 3]\n",
    "print(id(a))\n",
    "a += [4]\n",
    "print(id(a))"
   ]
  },
  {
   "cell_type": "code",
   "execution_count": 62,
   "metadata": {},
   "outputs": [],
   "source": [
    "def magic_string():\n",
    "    magic_string.n = getattr(magic_string, 'n', 0) + 1\n",
    "    return (\"BestSchool, \" * (magic_string.n - 1) + \"BestSchool\")"
   ]
  },
  {
   "cell_type": "code",
   "execution_count": 63,
   "metadata": {},
   "outputs": [
    {
     "name": "stdout",
     "output_type": "stream",
     "text": [
      "BestSchool\n",
      "BestSchool, BestSchool\n",
      "BestSchool, BestSchool, BestSchool\n",
      "BestSchool, BestSchool, BestSchool, BestSchool\n",
      "BestSchool, BestSchool, BestSchool, BestSchool, BestSchool\n",
      "BestSchool, BestSchool, BestSchool, BestSchool, BestSchool, BestSchool\n",
      "BestSchool, BestSchool, BestSchool, BestSchool, BestSchool, BestSchool, BestSchool\n",
      "BestSchool, BestSchool, BestSchool, BestSchool, BestSchool, BestSchool, BestSchool, BestSchool\n",
      "BestSchool, BestSchool, BestSchool, BestSchool, BestSchool, BestSchool, BestSchool, BestSchool, BestSchool\n",
      "BestSchool, BestSchool, BestSchool, BestSchool, BestSchool, BestSchool, BestSchool, BestSchool, BestSchool, BestSchool\n"
     ]
    }
   ],
   "source": [
    "for i in range(10):\n",
    "    print(magic_string())"
   ]
  },
  {
   "cell_type": "code",
   "execution_count": 5,
   "metadata": {},
   "outputs": [
    {
     "name": "stdout",
     "output_type": "stream",
     "text": [
      "3\n"
     ]
    }
   ],
   "source": [
    "class Base():\n",
    "    \"\"\" My base class \"\"\"\n",
    "\n",
    "    __nb_instances = 0\n",
    "\n",
    "    def __init__(self):\n",
    "        Base.__nb_instances += 1\n",
    "        self.id = Base.__nb_instances\n",
    "\n",
    "for i in range(3):\n",
    "    b = Base()\n",
    "print(b.id)"
   ]
  },
  {
   "cell_type": "code",
   "execution_count": 37,
   "metadata": {},
   "outputs": [],
   "source": [
    "f = open('workfile.txt', 'r+')"
   ]
  },
  {
   "cell_type": "code",
   "execution_count": 39,
   "metadata": {},
   "outputs": [
    {
     "data": {
      "text/plain": [
       "16"
      ]
     },
     "execution_count": 39,
     "metadata": {},
     "output_type": "execute_result"
    }
   ],
   "source": [
    "# f.write(b'0123456789abcdef')\n",
    "f.write('0123456789abcdef')"
   ]
  },
  {
   "cell_type": "code",
   "execution_count": 41,
   "metadata": {},
   "outputs": [
    {
     "data": {
      "text/plain": [
       "'5'"
      ]
     },
     "execution_count": 41,
     "metadata": {},
     "output_type": "execute_result"
    }
   ],
   "source": [
    "f.seek(5)\n",
    "f.read(1)"
   ]
  },
  {
   "cell_type": "code",
   "execution_count": 42,
   "metadata": {},
   "outputs": [
    {
     "ename": "UnsupportedOperation",
     "evalue": "can't do nonzero end-relative seeks",
     "output_type": "error",
     "traceback": [
      "\u001b[0;31m---------------------------------------------------------------------------\u001b[0m",
      "\u001b[0;31mUnsupportedOperation\u001b[0m                      Traceback (most recent call last)",
      "\u001b[1;32m/home/imitor/Documents/git_repos/ALX_FSE/alx-higher_level_programming/learn.ipynb Cell 101\u001b[0m in \u001b[0;36m<cell line: 1>\u001b[0;34m()\u001b[0m\n\u001b[0;32m----> <a href='vscode-notebook-cell:/home/imitor/Documents/git_repos/ALX_FSE/alx-higher_level_programming/learn.ipynb#Y202sZmlsZQ%3D%3D?line=0'>1</a>\u001b[0m f\u001b[39m.\u001b[39;49mseek(\u001b[39m-\u001b[39;49m\u001b[39m5\u001b[39;49m, \u001b[39m2\u001b[39;49m)\n",
      "\u001b[0;31mUnsupportedOperation\u001b[0m: can't do nonzero end-relative seeks"
     ]
    }
   ],
   "source": [
    "f.seek(-5, 2)"
   ]
  },
  {
   "cell_type": "code",
   "execution_count": 32,
   "metadata": {},
   "outputs": [
    {
     "data": {
      "text/plain": [
       "b'b'"
      ]
     },
     "execution_count": 32,
     "metadata": {},
     "output_type": "execute_result"
    }
   ],
   "source": [
    "f.read(1)\n"
   ]
  },
  {
   "cell_type": "code",
   "execution_count": 48,
   "metadata": {},
   "outputs": [],
   "source": [
    "import json\n",
    "x = [1, 'simple', 'list']\n",
    "a = json.dumps(x)"
   ]
  },
  {
   "cell_type": "code",
   "execution_count": 49,
   "metadata": {},
   "outputs": [
    {
     "data": {
      "text/plain": [
       "'[1, \"simple\", \"list\"]'"
      ]
     },
     "execution_count": 49,
     "metadata": {},
     "output_type": "execute_result"
    }
   ],
   "source": [
    "a"
   ]
  },
  {
   "cell_type": "code",
   "execution_count": 60,
   "metadata": {},
   "outputs": [],
   "source": [
    "import json\n",
    "with open('workfile.txt', 'w') as f:\n",
    "    x = [1, 'simple', 'list']\n",
    "    json.dump(x,f)\n"
   ]
  },
  {
   "cell_type": "code",
   "execution_count": 61,
   "metadata": {},
   "outputs": [
    {
     "name": "stdout",
     "output_type": "stream",
     "text": [
      "[1, 'simple', 'list']\n"
     ]
    }
   ],
   "source": [
    "with open('workfile.txt', 'r') as f:\n",
    "    ab = json.load(f)\n",
    "    print(ab)"
   ]
  },
  {
   "cell_type": "code",
   "execution_count": 62,
   "metadata": {},
   "outputs": [
    {
     "data": {
      "text/plain": [
       "'UTF-8'"
      ]
     },
     "execution_count": 62,
     "metadata": {},
     "output_type": "execute_result"
    }
   ],
   "source": [
    "import locale\n",
    "locale.getpreferredencoding()"
   ]
  },
  {
   "cell_type": "code",
   "execution_count": 65,
   "metadata": {},
   "outputs": [
    {
     "name": "stdout",
     "output_type": "stream",
     "text": [
      "   1 Esther\n",
      "   2 Ezekiel\n",
      "   3 Emmanuel\n",
      "   4 Elizabeth\n",
      "   5 Elisha\n"
     ]
    }
   ],
   "source": [
    "line_no = 0\n",
    "with open('people', encoding='utf8') as fav_pips:\n",
    "    for line in fav_pips:\n",
    "        line_no += 1\n",
    "        print('{:>4} {}'.format(line_no, line.rstrip()))"
   ]
  },
  {
   "cell_type": "code",
   "execution_count": 1,
   "metadata": {},
   "outputs": [],
   "source": [
    "import json\n",
    "\n",
    "\n",
    "def load_from_json_file(filename):\n",
    "    \"\"\"Create a Python object from a JSON file.\"\"\"\n",
    "    with open(filename) as f:\n",
    "        return json.load(f)\n"
   ]
  },
  {
   "cell_type": "code",
   "execution_count": 4,
   "metadata": {},
   "outputs": [
    {
     "name": "stdout",
     "output_type": "stream",
     "text": [
      "{'is_active': True, 'num': 12}\n"
     ]
    }
   ],
   "source": [
    "js = load_from_json_file(filename=\"json.json\")\n",
    "print(js)"
   ]
  },
  {
   "cell_type": "code",
   "execution_count": 6,
   "metadata": {},
   "outputs": [],
   "source": [
    "def print_stats(size, status_codes):\n",
    "    \"\"\"Print accumulated metrics.\n",
    "\n",
    "    Args:\n",
    "        size (int): The accumulated read file size.\n",
    "        status_codes (dict): The accumulated count of status codes.\n",
    "    \"\"\"\n",
    "    print(\"File size: {}\".format(size))\n",
    "    for key in sorted(status_codes):\n",
    "        print(\"{}: {}\".format(key, status_codes[key]))"
   ]
  },
  {
   "cell_type": "code",
   "execution_count": 9,
   "metadata": {},
   "outputs": [
    {
     "name": "stdout",
     "output_type": "stream",
     "text": [
      "None\n",
      "None\n",
      "None\n",
      "None\n",
      "None\n",
      "None\n",
      "None\n",
      "None\n"
     ]
    }
   ],
   "source": [
    "count = 0\n",
    "size = 0  # initializes size to zero\n",
    "valid_codes = ['200', '301', '400', '401', '403', '404', '405', '500']\n",
    "status_codes = {}  # creates a dictionary of status codes\n",
    "with open(\"people\", encoding=\"utf8\") as f:\n",
    "    for line in f:\n",
    "        if count == 10:\n",
    "            # print_stats(size, status_codes)\n",
    "            count = 1\n",
    "        else:\n",
    "            count += 1\n",
    "\n",
    "        line = line.split()  # split the logs using generic spaces\n",
    "\n",
    "        try:\n",
    "            size += int(line[-1])  # convert the last value to int and add to size\n",
    "        except (IndexError, ValueError):  #catch errors\n",
    "            pass  # ignore if errors are raised\n",
    "\n",
    "        try:\n",
    "            if line[-2] in valid_codes:  # check if the status_codes are valid_codes\n",
    "                if status_codes.get(line[-2], -1) == -1:\n",
    "                    print(status_codes.get(line[-2]))\n",
    "                    status_codes[line[-2]] = 1\n",
    "                else:\n",
    "                    status_codes[line[-2]] += 1\n",
    "        except IndexError:\n",
    "            pass\n",
    "\n",
    "    # print_stats(size, status_codes)\n"
   ]
  },
  {
   "cell_type": "code",
   "execution_count": 14,
   "metadata": {},
   "outputs": [],
   "source": [
    "def width(self, value):\n",
    "        \"\"\"Setter function for the width of the rectangle.\"\"\"\n",
    "        if not isinstance(value, int):\n",
    "            raise TypeError(\"width must be an integer\")\n",
    "        self.__width = value"
   ]
  },
  {
   "cell_type": "code",
   "execution_count": 2,
   "metadata": {},
   "outputs": [],
   "source": [
    "dicts = {\"key\":\"valz\"}"
   ]
  },
  {
   "cell_type": "code",
   "execution_count": 3,
   "metadata": {},
   "outputs": [
    {
     "data": {
      "text/plain": [
       "'valz'"
      ]
     },
     "execution_count": 3,
     "metadata": {},
     "output_type": "execute_result"
    }
   ],
   "source": [
    "dicts.get(\"key\")"
   ]
  },
  {
   "cell_type": "code",
   "execution_count": 6,
   "metadata": {},
   "outputs": [],
   "source": [
    "def update(*args, **kwargs):\n",
    "    name = kwargs[\"name\"]\n",
    "    print(name)"
   ]
  },
  {
   "cell_type": "code",
   "execution_count": 7,
   "metadata": {},
   "outputs": [
    {
     "name": "stdout",
     "output_type": "stream",
     "text": [
      "Emmanuel\n"
     ]
    }
   ],
   "source": [
    "update(name=\"Emmanuel\")"
   ]
  },
  {
   "cell_type": "code",
   "execution_count": 4,
   "metadata": {},
   "outputs": [
    {
     "ename": "TypeError",
     "evalue": "'has_header' is an invalid keyword argument for this function",
     "output_type": "error",
     "traceback": [
      "\u001b[0;31m---------------------------------------------------------------------------\u001b[0m",
      "\u001b[0;31mTypeError\u001b[0m                                 Traceback (most recent call last)",
      "\u001b[1;32m/home/imitor/Documents/git_repos/ALX_FSE/alx-higher_level_programming/learn.ipynb Cell 118\u001b[0m in \u001b[0;36m<cell line: 2>\u001b[0;34m()\u001b[0m\n\u001b[1;32m      <a href='vscode-notebook-cell:/home/imitor/Documents/git_repos/ALX_FSE/alx-higher_level_programming/learn.ipynb#Y225sZmlsZQ%3D%3D?line=0'>1</a>\u001b[0m \u001b[39mimport\u001b[39;00m \u001b[39mcsv\u001b[39;00m\n\u001b[1;32m      <a href='vscode-notebook-cell:/home/imitor/Documents/git_repos/ALX_FSE/alx-higher_level_programming/learn.ipynb#Y225sZmlsZQ%3D%3D?line=1'>2</a>\u001b[0m \u001b[39mwith\u001b[39;00m \u001b[39mopen\u001b[39m(\u001b[39m'\u001b[39m\u001b[39mtest_csv.csv\u001b[39m\u001b[39m'\u001b[39m, newline\u001b[39m=\u001b[39m\u001b[39m'\u001b[39m\u001b[39m'\u001b[39m) \u001b[39mas\u001b[39;00m csv_file:\n\u001b[0;32m----> <a href='vscode-notebook-cell:/home/imitor/Documents/git_repos/ALX_FSE/alx-higher_level_programming/learn.ipynb#Y225sZmlsZQ%3D%3D?line=2'>3</a>\u001b[0m     spamreader \u001b[39m=\u001b[39m csv\u001b[39m.\u001b[39;49mreader(csv_file, delimiter\u001b[39m=\u001b[39;49m\u001b[39m'\u001b[39;49m\u001b[39m,\u001b[39;49m\u001b[39m'\u001b[39;49m, has_header\u001b[39m=\u001b[39;49m\u001b[39mTrue\u001b[39;49;00m)\n\u001b[1;32m      <a href='vscode-notebook-cell:/home/imitor/Documents/git_repos/ALX_FSE/alx-higher_level_programming/learn.ipynb#Y225sZmlsZQ%3D%3D?line=3'>4</a>\u001b[0m     \u001b[39mfor\u001b[39;00m row \u001b[39min\u001b[39;00m spamreader:\n\u001b[1;32m      <a href='vscode-notebook-cell:/home/imitor/Documents/git_repos/ALX_FSE/alx-higher_level_programming/learn.ipynb#Y225sZmlsZQ%3D%3D?line=4'>5</a>\u001b[0m         \u001b[39mprint\u001b[39m(\u001b[39m'\u001b[39m\u001b[39m, \u001b[39m\u001b[39m'\u001b[39m\u001b[39m.\u001b[39mjoin(row))\n",
      "\u001b[0;31mTypeError\u001b[0m: 'has_header' is an invalid keyword argument for this function"
     ]
    }
   ],
   "source": [
    "import csv\n",
    "with open('test_csv.csv', 'w', newline='') as csv_file:\n",
    "    spamreader = csv.reader(csv_file, delimiter=',', has_header=True)\n",
    "    for row in spamreader:\n",
    "        print(', '.join(row))"
   ]
  },
  {
   "cell_type": "code",
   "execution_count": null,
   "metadata": {},
   "outputs": [],
   "source": [
    "filename = cls.__name__ + \".csv\"\n",
    "with open(filename, \"w\", newline=\"\") as csvfile:\n",
    "    if list_objs is None or list_objs == []:\n",
    "        csvfile.write(\"[]\")\n",
    "    else:\n",
    "        if cls.__name__ == \"Rectangle\":\n",
    "            fieldnames = [\"id\", \"width\", \"height\", \"x\", \"y\"]\n",
    "        else:\n",
    "            fieldnames = [\"id\", \"size\", \"x\", \"y\"]\n",
    "        writer = csv.DictWriter(csvfile, fieldnames=fieldnames)\n",
    "        for obj in list_objs:\n",
    "            writer.writerow(obj.to_dictionary())"
   ]
  },
  {
   "cell_type": "code",
   "execution_count": 7,
   "metadata": {},
   "outputs": [
    {
     "name": "stdout",
     "output_type": "stream",
     "text": [
      "Your Score:0 out of 3\n"
     ]
    }
   ],
   "source": [
    "class Question:\n",
    "    def __init__(self, prompt, answer):\n",
    "        \"\"\"Initialize the question class\"\"\"\n",
    "        self.prompt = prompt\n",
    "        self.answer = answer\n",
    "\n",
    "\n",
    "question_prompt = [\n",
    "    \"What is the value of the expression: 2*3-4?\\n(a) 1\\n(b) 2\\n(c) 3\\n(d) none\",\n",
    "    \"What is the value of the expression: 1+(2*3)/4?\\n(a) 1.5 \\n(b) 3\\n(c) 3.5\\n(d) none\",\n",
    "    \"The set data type can hold duplicate values. \\nThe statement is:\\n(a) False\\n(b) True\\n(c) Partially correct\\n(d) none\"\n",
    "    ]\n",
    "\n",
    "# instance list of questions and their answers\n",
    "questions = [\n",
    "    Question(question_prompt[0], \"b\"),\n",
    "    Question(question_prompt[1], \"d\"),\n",
    "    Question(question_prompt[2], \"a\")\n",
    "    ]\n",
    "\n",
    "def run_test(questions):\n",
    "    ans = 0\n",
    "    for question in questions:\n",
    "        answer = input(question_prompt)\n",
    "        if answer == question.answer:\n",
    "            ans +=1\n",
    "    print(\"Your Score:\" + str(ans) + ' out of ' + str(len(questions)))\n",
    "\n",
    "run_test(questions)"
   ]
  },
  {
   "cell_type": "code",
   "execution_count": 25,
   "metadata": {},
   "outputs": [
    {
     "name": "stdout",
     "output_type": "stream",
     "text": [
      "What is the value of the expression: 2*3-4?\n",
      "(a) 1\n",
      "(b) 2\n",
      "(c) 3\n",
      "(d) none\n",
      "What is the value of the expression: 1+(2*3)/4?\n",
      "(a) 1.5 \n",
      "(b) 3\n",
      "(c) 3.5\n",
      "(d) none\n",
      "The set data type can hold duplicate values. \n",
      "The statement is:\n",
      "(a) False\n",
      "(b) True\n",
      "(c) Partially correct\n",
      "(d) none\n",
      "Your Score: 3 out of 3\n"
     ]
    }
   ],
   "source": [
    "Q1 = \"What is the value of the expression: 2*3-4?\\n(a) 1\\n(b) 2\\n(c) 3\\n(d) none\"\n",
    "Q2 = \"What is the value of the expression: 1+(2*3)/4?\\n(a) 1.5 \\n(b) 3\\n(c) 3.5\\n(d) none\"\n",
    "Q3 = \"The set data type can hold duplicate values. \\nThe statement is:\\n(a) False\\n(b) True\\n(c) Partially correct\\n(d) none\"\n",
    "\n",
    "questions = [Q1, Q2, Q3]\n",
    "answers = {Q1: 'b', Q2: 'd', Q3: 'a'}\n",
    "\n",
    "def run_test(questions, answers):\n",
    "    score = 0\n",
    "    for question in questions:\n",
    "        print(question)\n",
    "        user_answer = input(\"Type your answer: \") # raw_input for python2\n",
    "        if answers[question] == user_answer.lower():\n",
    "            score += 1\n",
    "    print(\"Your Score: {} out of {}\".format(score, len(questions)))\n",
    "\n",
    "run_test(questions, answers)\n"
   ]
  },
  {
   "cell_type": "code",
   "execution_count": 21,
   "metadata": {},
   "outputs": [
    {
     "data": {
      "text/plain": [
       "['What is the value of the expression: 2*3-4?\\n(a) 1\\n(b) 2\\n(c) 3\\n(d) none',\n",
       " 'What is the value of the expression: 1+(2*3)/4?\\n(a) 1.5 \\n(b) 3\\n(c) 3.5\\n(d) none',\n",
       " 'The set data type can hold duplicate values. \\nThe statement is:\\n(a) False\\n(b) True\\n(c) Partially correct\\n(d) none']"
      ]
     },
     "execution_count": 21,
     "metadata": {},
     "output_type": "execute_result"
    }
   ],
   "source": [
    "questions"
   ]
  },
  {
   "cell_type": "code",
   "execution_count": null,
   "metadata": {},
   "outputs": [],
   "source": [
    "import turtle\n",
    "turt = turtle.Turtle()\n",
    "turt.screen.bgcolor('black')\n",
    "turt.pensize(3)\n",
    "turt.shape('arrow')\n",
    "turt.color('white')\n",
    "\n",
    "\n"
   ]
  }
 ],
 "metadata": {
  "kernelspec": {
   "display_name": "Python 3.9.12 ('base')",
   "language": "python",
   "name": "python3"
  },
  "language_info": {
   "codemirror_mode": {
    "name": "ipython",
    "version": 3
   },
   "file_extension": ".py",
   "mimetype": "text/x-python",
   "name": "python",
   "nbconvert_exporter": "python",
   "pygments_lexer": "ipython3",
   "version": "3.9.12"
  },
  "orig_nbformat": 4,
  "vscode": {
   "interpreter": {
    "hash": "531d16891cc6a4bc083d7631e4d46318a53d03379e744d6da0ddfc7f54406a35"
   }
  }
 },
 "nbformat": 4,
 "nbformat_minor": 2
}
